{
 "cells": [
  {
   "cell_type": "markdown",
   "metadata": {},
   "source": [
    "# Tensorflow intro\n",
    "\n",
    "This tutorial shows the basic usage of tensorflow to train neural networks"
   ]
  },
  {
   "cell_type": "code",
   "execution_count": 1,
   "metadata": {},
   "outputs": [],
   "source": [
    "import tensorflow as tf\n",
    "import numpy as np\n",
    "import pandas as pd\n",
    "import datetime"
   ]
  },
  {
   "cell_type": "code",
   "execution_count": 2,
   "metadata": {},
   "outputs": [],
   "source": [
    "from sklearn.compose import ColumnTransformer\n",
    "from sklearn.pipeline import Pipeline\n",
    "from sklearn.preprocessing import MinMaxScaler\n",
    "from sklearn.preprocessing import OneHotEncoder\n",
    "from sklearn.preprocessing import PolynomialFeatures\n",
    "from sklearn.model_selection import train_test_split\n",
    "from sklearn.datasets import make_classification"
   ]
  },
  {
   "cell_type": "markdown",
   "metadata": {},
   "source": [
    "# Simple NN for classification"
   ]
  },
  {
   "cell_type": "markdown",
   "metadata": {},
   "source": [
    "## Data processing\n",
    "Read data and convert them to numerical inputs"
   ]
  },
  {
   "cell_type": "code",
   "execution_count": 3,
   "metadata": {},
   "outputs": [],
   "source": [
    "X, y = make_classification(n_samples=20000, n_features=8, n_informative=5, \n",
    "                           n_redundant=0, n_classes=2, random_state=1)"
   ]
  },
  {
   "cell_type": "code",
   "execution_count": 4,
   "metadata": {},
   "outputs": [],
   "source": [
    "X, X_test, y, y_test = train_test_split(X, y, test_size=0.2, random_state=42, stratify=y)"
   ]
  },
  {
   "cell_type": "code",
   "execution_count": 5,
   "metadata": {},
   "outputs": [],
   "source": [
    "X_train, X_dev, y_train, y_dev = train_test_split(X, y, test_size=0.2, random_state=42, stratify=y)"
   ]
  },
  {
   "cell_type": "code",
   "execution_count": 6,
   "metadata": {},
   "outputs": [
    {
     "name": "stdout",
     "output_type": "stream",
     "text": [
      "train size: (12800, 8), target_ratio: 0.502\n",
      "test size: (4000, 8), target_ratio: 0.501\n",
      "dev size: (3200, 8), target_ratio: 0.502\n"
     ]
    }
   ],
   "source": [
    "print('train size: {}, target_ratio: {:.3f}'.format(X_train.shape, np.mean(y_train)))\n",
    "print('test size: {}, target_ratio: {:.3f}'.format(X_test.shape, np.mean(y_test)))\n",
    "print('dev size: {}, target_ratio: {:.3f}'.format(X_dev.shape, np.mean(y_dev)))"
   ]
  },
  {
   "cell_type": "markdown",
   "metadata": {},
   "source": [
    "## Building a simple model with tf.keras"
   ]
  },
  {
   "cell_type": "markdown",
   "metadata": {},
   "source": [
    "Very useful documentations with many examples and detailed explanation of everything you might need:\n",
    " - https://www.tensorflow.org/api_docs/python/tf/keras/\n",
    " - https://keras.io/api/\n",
    "\n",
    "Contain everything about:\n",
    "  - Model building: Activations, Losses, Optimizers, Regularization\n",
    "  - Data processing\n",
    "  - Pretrained models and datasets\n",
    "  - Automatic differentiation\n",
    "  - ...\n",
    "\n",
    "  "
   ]
  },
  {
   "cell_type": "markdown",
   "metadata": {},
   "source": [
    "### Model speficication"
   ]
  },
  {
   "cell_type": "markdown",
   "metadata": {},
   "source": [
    "three APIs for building the model\n",
    "   - sequential - easy to code, but less flexible - we will use it sometimes\n",
    "   - functional - flexible and still easy to code - we will use it the most\n",
    "   - model subclassing - rather complicated and not very much used - we will skip it"
   ]
  },
  {
   "cell_type": "markdown",
   "metadata": {},
   "source": [
    "#### Sequential API"
   ]
  },
  {
   "cell_type": "markdown",
   "metadata": {},
   "source": [
    "(https://www.tensorflow.org/guide/keras/sequential_model)\n",
    "\n",
    "Easy to code but <span style=\"color:red\"> NOT </span> appropriate when:\n",
    "\n",
    "- Your model has multiple inputs or multiple outputs\n",
    "- Any of your layers has multiple inputs or multiple outputs\n",
    "- You need to do layer sharing\n",
    "- You want non-linear topology (e.g. a residual connection, a multi-branch model)"
   ]
  },
  {
   "cell_type": "code",
   "execution_count": 7,
   "metadata": {},
   "outputs": [
    {
     "name": "stdout",
     "output_type": "stream",
     "text": [
      "Model: \"sequential\"\n",
      "_________________________________________________________________\n",
      " Layer (type)                Output Shape              Param #   \n",
      "=================================================================\n",
      " dense (Dense)               (None, 10)                90        \n",
      "                                                                 \n",
      " dense_1 (Dense)             (None, 1)                 11        \n",
      "                                                                 \n",
      "=================================================================\n",
      "Total params: 101\n",
      "Trainable params: 101\n",
      "Non-trainable params: 0\n",
      "_________________________________________________________________\n"
     ]
    }
   ],
   "source": [
    "# Specification A)\n",
    "\n",
    "model = tf.keras.Sequential([\n",
    "    tf.keras.layers.InputLayer([X_train.shape[1],]), # Create input layer with 'input data' neurons\n",
    "    tf.keras.layers.Dense(10, activation=\"relu\"), # Create hidden layer with 10 neurons and ReLU activation\n",
    "    tf.keras.layers.Dense(1, activation=\"sigmoid\"), # Create output layer with one neuron and sigmoid activation\n",
    "])\n",
    "\n",
    "model.summary()"
   ]
  },
  {
   "cell_type": "code",
   "execution_count": 8,
   "metadata": {
    "scrolled": true
   },
   "outputs": [
    {
     "name": "stdout",
     "output_type": "stream",
     "text": [
      "Model: \"sequential_1\"\n",
      "_________________________________________________________________\n",
      " Layer (type)                Output Shape              Param #   \n",
      "=================================================================\n",
      " dense_2 (Dense)             (None, 10)                90        \n",
      "                                                                 \n",
      " dense_3 (Dense)             (None, 1)                 11        \n",
      "                                                                 \n",
      "=================================================================\n",
      "Total params: 101\n",
      "Trainable params: 101\n",
      "Non-trainable params: 0\n",
      "_________________________________________________________________\n"
     ]
    }
   ],
   "source": [
    "# Specification B)\n",
    "\n",
    "model = tf.keras.Sequential()\n",
    "model.add(tf.keras.Input(shape=(X_train.shape[1],)))\n",
    "model.add(tf.keras.layers.Dense(10, activation=\"relu\"))\n",
    "model.add(tf.keras.layers.Dense(1, activation=\"sigmoid\"))\n",
    "\n",
    "model.summary()"
   ]
  },
  {
   "cell_type": "markdown",
   "metadata": {},
   "source": [
    "#### Functional API"
   ]
  },
  {
   "cell_type": "markdown",
   "metadata": {},
   "source": [
    "(https://www.tensorflow.org/guide/keras/functional)\n",
    "\n",
    "The Keras functional API is a way to create models that are more flexible than the tf.keras.Sequential API. The functional API can handle models with non-linear topology, shared layers, and even multiple inputs or outputs.\n",
    "\n",
    "The main idea is that a deep learning model is usually a directed acyclic graph (DAG) of layers. So the functional API is a way to build graphs of layers.\n",
    "\n"
   ]
  },
  {
   "cell_type": "code",
   "execution_count": 9,
   "metadata": {},
   "outputs": [],
   "source": [
    "inputs = tf.keras.Input(shape=(X_train.shape[1],))\n",
    "\n",
    "hidden = tf.keras.layers.Dense(10)(inputs)\n",
    "hidden = tf.keras.activations.relu(hidden)\n",
    "hidden = tf.keras.layers.Dense(1)(hidden)\n",
    "outputs = tf.keras.activations.sigmoid(hidden)\n",
    "\n",
    "model = tf.keras.Model(inputs=inputs, outputs=outputs, name='Model')"
   ]
  },
  {
   "cell_type": "code",
   "execution_count": 10,
   "metadata": {
    "scrolled": true
   },
   "outputs": [
    {
     "name": "stdout",
     "output_type": "stream",
     "text": [
      "Model: \"Model\"\n",
      "_________________________________________________________________\n",
      " Layer (type)                Output Shape              Param #   \n",
      "=================================================================\n",
      " input_3 (InputLayer)        [(None, 8)]               0         \n",
      "                                                                 \n",
      " dense_4 (Dense)             (None, 10)                90        \n",
      "                                                                 \n",
      " tf.nn.relu (TFOpLambda)     (None, 10)                0         \n",
      "                                                                 \n",
      " dense_5 (Dense)             (None, 1)                 11        \n",
      "                                                                 \n",
      " tf.math.sigmoid (TFOpLambda  (None, 1)                0         \n",
      " )                                                               \n",
      "                                                                 \n",
      "=================================================================\n",
      "Total params: 101\n",
      "Trainable params: 101\n",
      "Non-trainable params: 0\n",
      "_________________________________________________________________\n"
     ]
    }
   ],
   "source": [
    "model.summary()"
   ]
  },
  {
   "cell_type": "code",
   "execution_count": 11,
   "metadata": {},
   "outputs": [
    {
     "name": "stdout",
     "output_type": "stream",
     "text": [
      "You must install pydot (`pip install pydot`) and install graphviz (see instructions at https://graphviz.gitlab.io/download/) for plot_model/model_to_dot to work.\n"
     ]
    }
   ],
   "source": [
    "tf.keras.utils.plot_model(model)"
   ]
  },
  {
   "cell_type": "markdown",
   "metadata": {},
   "source": [
    "### Model compilation and training"
   ]
  },
  {
   "cell_type": "code",
   "execution_count": 12,
   "metadata": {},
   "outputs": [],
   "source": [
    "# compile the model with selected optimizer, loss and metrics\n",
    "model.compile(\n",
    "        optimizer=tf.optimizers.Adam(), # Several other possibilities for optimizers \n",
    "        loss=tf.losses.BinaryCrossentropy(), # Select the proper loss for the task\n",
    "        metrics=[tf.keras.metrics.AUC(), tf.keras.metrics.BinaryAccuracy()], # Select the proper metrics for the task\n",
    ")"
   ]
  },
  {
   "cell_type": "code",
   "execution_count": 13,
   "metadata": {},
   "outputs": [
    {
     "name": "stdout",
     "output_type": "stream",
     "text": [
      "\n",
      ">>> Bias of the last layers:\n",
      "[0.]\n",
      "\n",
      ">>> Kernel of the last layers:\n",
      "[[-0.16962433]\n",
      " [ 0.53847915]\n",
      " [ 0.22006738]\n",
      " [-0.33006412]\n",
      " [ 0.02976835]\n",
      " [ 0.55226606]\n",
      " [ 0.67009264]\n",
      " [-0.22814786]\n",
      " [ 0.1265648 ]\n",
      " [-0.71368927]]\n",
      "\n",
      ">>> Bias of the first layers:\n",
      "[0. 0. 0. 0. 0. 0. 0. 0. 0. 0.]\n",
      "\n",
      ">>> Kernel of the first layers:\n",
      "[[-0.28134605  0.56252575 -0.57494134  0.23360962 -0.10974255  0.4265374\n",
      "  -0.37385345  0.32267743  0.03222656  0.5710387 ]\n",
      " [-0.4842928   0.57292736  0.21615356 -0.04111856 -0.13085258 -0.4341614\n",
      "   0.5598422   0.5346494  -0.42215216 -0.3225607 ]\n",
      " [-0.36994952  0.23800689  0.4745934   0.55855095  0.12056136 -0.5526602\n",
      "  -0.56815046  0.3487463   0.33714277 -0.1901817 ]\n",
      " [-0.11928508  0.3998114   0.02599156 -0.5677908  -0.21454743 -0.21722722\n",
      "   0.28900826 -0.54289865  0.44407773 -0.31914502]\n",
      " [ 0.3518539   0.5277877   0.14496279 -0.2784478   0.4090321   0.14122528\n",
      "   0.18519694 -0.41088268 -0.2665919   0.4196201 ]\n",
      " [ 0.03714979 -0.21809056 -0.06588447  0.01100039  0.07349062 -0.37718102\n",
      "   0.2789564   0.40686655 -0.17282581  0.08731288]\n",
      " [-0.1397425   0.35297924 -0.16531447 -0.13064227  0.5765146  -0.1388424\n",
      "   0.1350888  -0.02752209  0.35941923  0.5526209 ]\n",
      " [-0.2224102   0.42138988 -0.26855028  0.54907167  0.18972343  0.31190634\n",
      "   0.03406644  0.32749188  0.3105743   0.05795729]]\n"
     ]
    }
   ],
   "source": [
    "print('\\n>>> Bias of the last layers:')\n",
    "print(model.layers[3].weights[1].numpy())\n",
    "\n",
    "print('\\n>>> Kernel of the last layers:')\n",
    "print(model.layers[3].weights[0].numpy())\n",
    "\n",
    "print('\\n>>> Bias of the first layers:')\n",
    "print(model.layers[1].weights[1].numpy())\n",
    "\n",
    "print('\\n>>> Kernel of the first layers:')\n",
    "print(model.layers[1].weights[0].numpy())"
   ]
  },
  {
   "cell_type": "code",
   "execution_count": 14,
   "metadata": {
    "scrolled": true
   },
   "outputs": [
    {
     "name": "stdout",
     "output_type": "stream",
     "text": [
      "Epoch 1/100\n",
      "200/200 [==============================] - 1s 2ms/step - loss: 0.7701 - auc: 0.5412 - binary_accuracy: 0.5362\n",
      "Epoch 2/100\n",
      "200/200 [==============================] - 0s 2ms/step - loss: 0.5502 - auc: 0.8134 - binary_accuracy: 0.7320\n",
      "Epoch 3/100\n",
      "200/200 [==============================] - 0s 2ms/step - loss: 0.4535 - auc: 0.8819 - binary_accuracy: 0.8005\n",
      "Epoch 4/100\n",
      "200/200 [==============================] - 0s 2ms/step - loss: 0.4064 - auc: 0.9037 - binary_accuracy: 0.8258\n",
      "Epoch 5/100\n",
      "200/200 [==============================] - 0s 2ms/step - loss: 0.3766 - auc: 0.9175 - binary_accuracy: 0.8431\n",
      "Epoch 6/100\n",
      "200/200 [==============================] - 0s 2ms/step - loss: 0.3537 - auc: 0.9278 - binary_accuracy: 0.8548\n",
      "Epoch 7/100\n",
      "200/200 [==============================] - 0s 2ms/step - loss: 0.3342 - auc: 0.9357 - binary_accuracy: 0.8653\n",
      "Epoch 8/100\n",
      "200/200 [==============================] - 0s 2ms/step - loss: 0.3178 - auc: 0.9418 - binary_accuracy: 0.8750\n",
      "Epoch 9/100\n",
      "200/200 [==============================] - 0s 2ms/step - loss: 0.3042 - auc: 0.9465 - binary_accuracy: 0.8814\n",
      "Epoch 10/100\n",
      "200/200 [==============================] - 0s 2ms/step - loss: 0.2935 - auc: 0.9503 - binary_accuracy: 0.8862\n",
      "Epoch 11/100\n",
      "200/200 [==============================] - 0s 2ms/step - loss: 0.2847 - auc: 0.9530 - binary_accuracy: 0.8908\n",
      "Epoch 12/100\n",
      "200/200 [==============================] - 0s 2ms/step - loss: 0.2774 - auc: 0.9554 - binary_accuracy: 0.8950\n",
      "Epoch 13/100\n",
      "200/200 [==============================] - 0s 2ms/step - loss: 0.2713 - auc: 0.9572 - binary_accuracy: 0.8969\n",
      "Epoch 14/100\n",
      "200/200 [==============================] - 0s 2ms/step - loss: 0.2657 - auc: 0.9591 - binary_accuracy: 0.8996\n",
      "Epoch 15/100\n",
      "200/200 [==============================] - 0s 2ms/step - loss: 0.2610 - auc: 0.9604 - binary_accuracy: 0.9008\n",
      "Epoch 16/100\n",
      "200/200 [==============================] - 0s 2ms/step - loss: 0.2571 - auc: 0.9616 - binary_accuracy: 0.9022\n",
      "Epoch 17/100\n",
      "200/200 [==============================] - 0s 2ms/step - loss: 0.2535 - auc: 0.9626 - binary_accuracy: 0.9030\n",
      "Epoch 18/100\n",
      "200/200 [==============================] - 0s 2ms/step - loss: 0.2509 - auc: 0.9632 - binary_accuracy: 0.9041\n",
      "Epoch 19/100\n",
      "200/200 [==============================] - 0s 2ms/step - loss: 0.2485 - auc: 0.9640 - binary_accuracy: 0.9043\n",
      "Epoch 20/100\n",
      "200/200 [==============================] - 0s 2ms/step - loss: 0.2469 - auc: 0.9644 - binary_accuracy: 0.9036\n",
      "Epoch 21/100\n",
      "200/200 [==============================] - 0s 2ms/step - loss: 0.2446 - auc: 0.9651 - binary_accuracy: 0.9057\n",
      "Epoch 22/100\n",
      "200/200 [==============================] - 0s 1ms/step - loss: 0.2430 - auc: 0.9655 - binary_accuracy: 0.9059\n",
      "Epoch 23/100\n",
      "200/200 [==============================] - 0s 2ms/step - loss: 0.2411 - auc: 0.9660 - binary_accuracy: 0.9065\n",
      "Epoch 24/100\n",
      "200/200 [==============================] - 0s 2ms/step - loss: 0.2398 - auc: 0.9665 - binary_accuracy: 0.9071\n",
      "Epoch 25/100\n",
      "200/200 [==============================] - 0s 2ms/step - loss: 0.2384 - auc: 0.9668 - binary_accuracy: 0.9090\n",
      "Epoch 26/100\n",
      "200/200 [==============================] - 0s 2ms/step - loss: 0.2371 - auc: 0.9672 - binary_accuracy: 0.9095\n",
      "Epoch 27/100\n",
      "200/200 [==============================] - 0s 2ms/step - loss: 0.2359 - auc: 0.9674 - binary_accuracy: 0.9089\n",
      "Epoch 28/100\n",
      "200/200 [==============================] - 0s 1ms/step - loss: 0.2346 - auc: 0.9679 - binary_accuracy: 0.9105\n",
      "Epoch 29/100\n",
      "200/200 [==============================] - 0s 2ms/step - loss: 0.2336 - auc: 0.9682 - binary_accuracy: 0.9099\n",
      "Epoch 30/100\n",
      "200/200 [==============================] - 0s 2ms/step - loss: 0.2327 - auc: 0.9682 - binary_accuracy: 0.9116\n",
      "Epoch 31/100\n",
      "200/200 [==============================] - 0s 2ms/step - loss: 0.2313 - auc: 0.9688 - binary_accuracy: 0.9123\n",
      "Epoch 32/100\n",
      "200/200 [==============================] - 0s 1ms/step - loss: 0.2306 - auc: 0.9690 - binary_accuracy: 0.9124\n",
      "Epoch 33/100\n",
      "200/200 [==============================] - 0s 2ms/step - loss: 0.2295 - auc: 0.9693 - binary_accuracy: 0.9125\n",
      "Epoch 34/100\n",
      "200/200 [==============================] - 0s 2ms/step - loss: 0.2284 - auc: 0.9696 - binary_accuracy: 0.9137\n",
      "Epoch 35/100\n",
      "200/200 [==============================] - 0s 2ms/step - loss: 0.2276 - auc: 0.9697 - binary_accuracy: 0.9140\n",
      "Epoch 36/100\n",
      "200/200 [==============================] - 0s 2ms/step - loss: 0.2264 - auc: 0.9702 - binary_accuracy: 0.9136\n",
      "Epoch 37/100\n",
      "200/200 [==============================] - 0s 2ms/step - loss: 0.2255 - auc: 0.9705 - binary_accuracy: 0.9152\n",
      "Epoch 38/100\n",
      "200/200 [==============================] - 0s 2ms/step - loss: 0.2243 - auc: 0.9707 - binary_accuracy: 0.9139\n",
      "Epoch 39/100\n",
      "200/200 [==============================] - 0s 2ms/step - loss: 0.2236 - auc: 0.9709 - binary_accuracy: 0.9157\n",
      "Epoch 40/100\n",
      "200/200 [==============================] - 0s 2ms/step - loss: 0.2225 - auc: 0.9712 - binary_accuracy: 0.9153\n",
      "Epoch 41/100\n",
      "200/200 [==============================] - 0s 2ms/step - loss: 0.2217 - auc: 0.9715 - binary_accuracy: 0.9167\n",
      "Epoch 42/100\n",
      "200/200 [==============================] - 0s 2ms/step - loss: 0.2208 - auc: 0.9718 - binary_accuracy: 0.9171\n",
      "Epoch 43/100\n",
      "200/200 [==============================] - 0s 1ms/step - loss: 0.2197 - auc: 0.9719 - binary_accuracy: 0.9177\n",
      "Epoch 44/100\n",
      "200/200 [==============================] - 0s 2ms/step - loss: 0.2187 - auc: 0.9723 - binary_accuracy: 0.9187\n",
      "Epoch 45/100\n",
      "200/200 [==============================] - 0s 2ms/step - loss: 0.2181 - auc: 0.9724 - binary_accuracy: 0.9181\n",
      "Epoch 46/100\n",
      "200/200 [==============================] - 0s 2ms/step - loss: 0.2169 - auc: 0.9727 - binary_accuracy: 0.9191\n",
      "Epoch 47/100\n",
      "200/200 [==============================] - 0s 2ms/step - loss: 0.2163 - auc: 0.9730 - binary_accuracy: 0.9197\n",
      "Epoch 48/100\n",
      "200/200 [==============================] - 0s 2ms/step - loss: 0.2156 - auc: 0.9731 - binary_accuracy: 0.9197\n",
      "Epoch 49/100\n",
      "200/200 [==============================] - 0s 2ms/step - loss: 0.2147 - auc: 0.9734 - binary_accuracy: 0.9209\n",
      "Epoch 50/100\n",
      "200/200 [==============================] - 0s 2ms/step - loss: 0.2139 - auc: 0.9735 - binary_accuracy: 0.9218\n",
      "Epoch 51/100\n",
      "200/200 [==============================] - 0s 2ms/step - loss: 0.2128 - auc: 0.9739 - binary_accuracy: 0.9220\n",
      "Epoch 52/100\n",
      "200/200 [==============================] - 0s 2ms/step - loss: 0.2123 - auc: 0.9740 - binary_accuracy: 0.9225\n",
      "Epoch 53/100\n",
      "200/200 [==============================] - 0s 2ms/step - loss: 0.2114 - auc: 0.9743 - binary_accuracy: 0.9222\n",
      "Epoch 54/100\n",
      "200/200 [==============================] - 0s 2ms/step - loss: 0.2104 - auc: 0.9746 - binary_accuracy: 0.9233\n",
      "Epoch 55/100\n",
      "200/200 [==============================] - 0s 2ms/step - loss: 0.2094 - auc: 0.9749 - binary_accuracy: 0.9236\n",
      "Epoch 56/100\n",
      "200/200 [==============================] - 0s 2ms/step - loss: 0.2084 - auc: 0.9752 - binary_accuracy: 0.9257\n",
      "Epoch 57/100\n",
      "200/200 [==============================] - 0s 2ms/step - loss: 0.2073 - auc: 0.9755 - binary_accuracy: 0.9257\n",
      "Epoch 58/100\n",
      "200/200 [==============================] - 0s 2ms/step - loss: 0.2063 - auc: 0.9757 - binary_accuracy: 0.9260\n",
      "Epoch 59/100\n",
      "200/200 [==============================] - 0s 2ms/step - loss: 0.2052 - auc: 0.9760 - binary_accuracy: 0.9273\n",
      "Epoch 60/100\n",
      "200/200 [==============================] - 0s 2ms/step - loss: 0.2040 - auc: 0.9764 - binary_accuracy: 0.9277\n",
      "Epoch 61/100\n",
      "200/200 [==============================] - 0s 2ms/step - loss: 0.2029 - auc: 0.9766 - binary_accuracy: 0.9277\n",
      "Epoch 62/100\n",
      "200/200 [==============================] - 0s 2ms/step - loss: 0.2018 - auc: 0.9769 - binary_accuracy: 0.9280\n",
      "Epoch 63/100\n",
      "200/200 [==============================] - 0s 2ms/step - loss: 0.2010 - auc: 0.9771 - binary_accuracy: 0.9291\n",
      "Epoch 64/100\n",
      "200/200 [==============================] - 0s 2ms/step - loss: 0.1998 - auc: 0.9774 - binary_accuracy: 0.9295\n",
      "Epoch 65/100\n",
      "200/200 [==============================] - 0s 2ms/step - loss: 0.1987 - auc: 0.9778 - binary_accuracy: 0.9314\n",
      "Epoch 66/100\n",
      "200/200 [==============================] - 0s 2ms/step - loss: 0.1980 - auc: 0.9780 - binary_accuracy: 0.9309\n",
      "Epoch 67/100\n",
      "200/200 [==============================] - 0s 2ms/step - loss: 0.1968 - auc: 0.9781 - binary_accuracy: 0.9309\n",
      "Epoch 68/100\n",
      "200/200 [==============================] - 0s 2ms/step - loss: 0.1960 - auc: 0.9784 - binary_accuracy: 0.9311\n",
      "Epoch 69/100\n",
      "200/200 [==============================] - 0s 2ms/step - loss: 0.1948 - auc: 0.9787 - binary_accuracy: 0.9319\n",
      "Epoch 70/100\n",
      "200/200 [==============================] - 0s 2ms/step - loss: 0.1939 - auc: 0.9789 - binary_accuracy: 0.9315\n",
      "Epoch 71/100\n",
      "200/200 [==============================] - 0s 2ms/step - loss: 0.1927 - auc: 0.9792 - binary_accuracy: 0.9325\n",
      "Epoch 72/100\n",
      "200/200 [==============================] - 0s 2ms/step - loss: 0.1921 - auc: 0.9791 - binary_accuracy: 0.9327\n",
      "Epoch 73/100\n",
      "200/200 [==============================] - 0s 2ms/step - loss: 0.1912 - auc: 0.9795 - binary_accuracy: 0.9331\n",
      "Epoch 74/100\n",
      "200/200 [==============================] - 0s 2ms/step - loss: 0.1904 - auc: 0.9797 - binary_accuracy: 0.9344\n",
      "Epoch 75/100\n",
      "200/200 [==============================] - 0s 2ms/step - loss: 0.1896 - auc: 0.9798 - binary_accuracy: 0.9339\n",
      "Epoch 76/100\n",
      "200/200 [==============================] - 0s 2ms/step - loss: 0.1890 - auc: 0.9799 - binary_accuracy: 0.9332\n",
      "Epoch 77/100\n",
      "200/200 [==============================] - 0s 2ms/step - loss: 0.1880 - auc: 0.9802 - binary_accuracy: 0.9343\n",
      "Epoch 78/100\n",
      "200/200 [==============================] - 0s 2ms/step - loss: 0.1874 - auc: 0.9802 - binary_accuracy: 0.9345\n",
      "Epoch 79/100\n",
      "200/200 [==============================] - 0s 2ms/step - loss: 0.1865 - auc: 0.9804 - binary_accuracy: 0.9350\n",
      "Epoch 80/100\n",
      "200/200 [==============================] - 0s 2ms/step - loss: 0.1860 - auc: 0.9804 - binary_accuracy: 0.9356\n",
      "Epoch 81/100\n",
      "200/200 [==============================] - 0s 2ms/step - loss: 0.1854 - auc: 0.9805 - binary_accuracy: 0.9352\n",
      "Epoch 82/100\n",
      "200/200 [==============================] - 0s 2ms/step - loss: 0.1845 - auc: 0.9807 - binary_accuracy: 0.9355\n",
      "Epoch 83/100\n",
      "200/200 [==============================] - 0s 2ms/step - loss: 0.1840 - auc: 0.9808 - binary_accuracy: 0.9354\n",
      "Epoch 84/100\n",
      "200/200 [==============================] - 0s 2ms/step - loss: 0.1836 - auc: 0.9810 - binary_accuracy: 0.9365\n",
      "Epoch 85/100\n",
      "200/200 [==============================] - 0s 2ms/step - loss: 0.1829 - auc: 0.9810 - binary_accuracy: 0.9369\n",
      "Epoch 86/100\n",
      "200/200 [==============================] - 0s 2ms/step - loss: 0.1826 - auc: 0.9810 - binary_accuracy: 0.9370\n",
      "Epoch 87/100\n",
      "200/200 [==============================] - 0s 2ms/step - loss: 0.1820 - auc: 0.9812 - binary_accuracy: 0.9373\n",
      "Epoch 88/100\n",
      "200/200 [==============================] - 0s 2ms/step - loss: 0.1815 - auc: 0.9813 - binary_accuracy: 0.9377\n",
      "Epoch 89/100\n",
      "200/200 [==============================] - 0s 2ms/step - loss: 0.1809 - auc: 0.9814 - binary_accuracy: 0.9386\n",
      "Epoch 90/100\n",
      "200/200 [==============================] - 0s 2ms/step - loss: 0.1807 - auc: 0.9813 - binary_accuracy: 0.9378\n",
      "Epoch 91/100\n",
      "200/200 [==============================] - 0s 2ms/step - loss: 0.1805 - auc: 0.9814 - binary_accuracy: 0.9383\n",
      "Epoch 92/100\n",
      "200/200 [==============================] - 0s 2ms/step - loss: 0.1798 - auc: 0.9815 - binary_accuracy: 0.9377\n",
      "Epoch 93/100\n",
      "200/200 [==============================] - 0s 2ms/step - loss: 0.1790 - auc: 0.9816 - binary_accuracy: 0.9385\n",
      "Epoch 94/100\n",
      "200/200 [==============================] - 0s 2ms/step - loss: 0.1787 - auc: 0.9818 - binary_accuracy: 0.9388\n",
      "Epoch 95/100\n",
      "200/200 [==============================] - 0s 2ms/step - loss: 0.1784 - auc: 0.9816 - binary_accuracy: 0.9395\n",
      "Epoch 96/100\n",
      "200/200 [==============================] - 0s 2ms/step - loss: 0.1780 - auc: 0.9819 - binary_accuracy: 0.9395\n",
      "Epoch 97/100\n",
      "200/200 [==============================] - 0s 2ms/step - loss: 0.1775 - auc: 0.9819 - binary_accuracy: 0.9404\n",
      "Epoch 98/100\n",
      "200/200 [==============================] - 0s 2ms/step - loss: 0.1774 - auc: 0.9819 - binary_accuracy: 0.9405\n",
      "Epoch 99/100\n",
      "200/200 [==============================] - 0s 2ms/step - loss: 0.1768 - auc: 0.9820 - binary_accuracy: 0.9398\n",
      "Epoch 100/100\n",
      "200/200 [==============================] - 0s 2ms/step - loss: 0.1764 - auc: 0.9822 - binary_accuracy: 0.9404\n"
     ]
    },
    {
     "data": {
      "text/plain": [
       "<keras.callbacks.History at 0x209564e4d00>"
      ]
     },
     "execution_count": 14,
     "metadata": {},
     "output_type": "execute_result"
    }
   ],
   "source": [
    "# train the model with default setting\n",
    "model.fit(X_train, y_train, batch_size=64, epochs=100)"
   ]
  },
  {
   "cell_type": "code",
   "execution_count": 15,
   "metadata": {},
   "outputs": [
    {
     "name": "stdout",
     "output_type": "stream",
     "text": [
      "125/125 [==============================] - 1s 2ms/step - loss: 0.1985 - auc: 0.9775 - binary_accuracy: 0.9335\n"
     ]
    }
   ],
   "source": [
    "# Evaluate the model and predict for the test data\n",
    "model.evaluate(X_test, y_test)\n",
    "test_pred = model.predict(X_test)"
   ]
  },
  {
   "cell_type": "code",
   "execution_count": 16,
   "metadata": {},
   "outputs": [
    {
     "name": "stdout",
     "output_type": "stream",
     "text": [
      "1 - 0.28\n",
      "0 - 0.28\n",
      "0 - 0.31\n",
      "1 - 1.00\n",
      "0 - 0.00\n",
      "0 - 0.03\n",
      "1 - 0.96\n",
      "0 - 0.01\n",
      "1 - 0.95\n",
      "1 - 1.00\n"
     ]
    }
   ],
   "source": [
    "for pred, true in zip(test_pred, y_test[0:10]):\n",
    "    print('{} - {:.2f}'.format(true, pred[0]))"
   ]
  },
  {
   "cell_type": "markdown",
   "metadata": {},
   "source": [
    "### Add early stopping and regularization"
   ]
  },
  {
   "cell_type": "code",
   "execution_count": 17,
   "metadata": {},
   "outputs": [
    {
     "name": "stdout",
     "output_type": "stream",
     "text": [
      "Model: \"RegularizedModel\"\n",
      "_________________________________________________________________\n",
      " Layer (type)                Output Shape              Param #   \n",
      "=================================================================\n",
      " input_4 (InputLayer)        [(None, 8)]               0         \n",
      "                                                                 \n",
      " dense_6 (Dense)             (None, 10)                90        \n",
      "                                                                 \n",
      " tf.nn.relu_1 (TFOpLambda)   (None, 10)                0         \n",
      "                                                                 \n",
      " dense_7 (Dense)             (None, 1)                 11        \n",
      "                                                                 \n",
      " tf.math.sigmoid_1 (TFOpLamb  (None, 1)                0         \n",
      " da)                                                             \n",
      "                                                                 \n",
      "=================================================================\n",
      "Total params: 101\n",
      "Trainable params: 101\n",
      "Non-trainable params: 0\n",
      "_________________________________________________________________\n"
     ]
    }
   ],
   "source": [
    "# Input layer\n",
    "inputs = tf.keras.Input(shape=(X_train.shape[1]))\n",
    "\n",
    "# Hidden layer with regularization and ReLU\n",
    "hidden = tf.keras.layers.Dense(10, kernel_regularizer=tf.keras.regularizers.l2(0.001))(inputs)\n",
    "hidden = tf.keras.activations.relu(hidden)\n",
    "\n",
    "# Output layer with regularization and sigmoid\n",
    "outputs = tf.keras.layers.Dense(1, kernel_regularizer=tf.keras.regularizers.l2(0.001))(hidden)\n",
    "outputs = tf.keras.activations.sigmoid(outputs)\n",
    "\n",
    "model = tf.keras.Model(inputs=inputs, outputs=outputs, name='RegularizedModel')\n",
    "\n",
    "model.compile(\n",
    "        optimizer=tf.optimizers.Adam(),\n",
    "        loss=tf.losses.BinaryCrossentropy(),\n",
    "        metrics=[tf.keras.metrics.AUC(), tf.keras.metrics.BinaryAccuracy()],\n",
    ")\n",
    "\n",
    "model.summary()"
   ]
  },
  {
   "cell_type": "code",
   "execution_count": 18,
   "metadata": {
    "scrolled": true
   },
   "outputs": [
    {
     "name": "stdout",
     "output_type": "stream",
     "text": [
      "Epoch 1/200\n",
      "400/400 [==============================] - 2s 3ms/step - loss: 0.5817 - auc_1: 0.7856 - binary_accuracy: 0.7073 - val_loss: 0.4627 - val_auc_1: 0.8939 - val_binary_accuracy: 0.8109\n",
      "Epoch 2/200\n",
      "400/400 [==============================] - 1s 2ms/step - loss: 0.4184 - auc_1: 0.9092 - binary_accuracy: 0.8338 - val_loss: 0.3692 - val_auc_1: 0.9318 - val_binary_accuracy: 0.8541\n",
      "Epoch 3/200\n",
      "400/400 [==============================] - 1s 2ms/step - loss: 0.3488 - auc_1: 0.9384 - binary_accuracy: 0.8700 - val_loss: 0.3235 - val_auc_1: 0.9473 - val_binary_accuracy: 0.8828\n",
      "Epoch 4/200\n",
      "400/400 [==============================] - 1s 2ms/step - loss: 0.3158 - auc_1: 0.9496 - binary_accuracy: 0.8877 - val_loss: 0.3032 - val_auc_1: 0.9533 - val_binary_accuracy: 0.8950\n",
      "Epoch 5/200\n",
      "400/400 [==============================] - 1s 2ms/step - loss: 0.3001 - auc_1: 0.9542 - binary_accuracy: 0.8931 - val_loss: 0.2923 - val_auc_1: 0.9574 - val_binary_accuracy: 0.8941\n",
      "Epoch 6/200\n",
      "400/400 [==============================] - 1s 2ms/step - loss: 0.2906 - auc_1: 0.9574 - binary_accuracy: 0.8966 - val_loss: 0.2853 - val_auc_1: 0.9590 - val_binary_accuracy: 0.9009\n",
      "Epoch 7/200\n",
      "400/400 [==============================] - 1s 2ms/step - loss: 0.2839 - auc_1: 0.9594 - binary_accuracy: 0.9009 - val_loss: 0.2813 - val_auc_1: 0.9604 - val_binary_accuracy: 0.8975\n",
      "Epoch 8/200\n",
      "400/400 [==============================] - 1s 2ms/step - loss: 0.2793 - auc_1: 0.9610 - binary_accuracy: 0.9026 - val_loss: 0.2772 - val_auc_1: 0.9617 - val_binary_accuracy: 0.9009\n",
      "Epoch 9/200\n",
      "400/400 [==============================] - 1s 2ms/step - loss: 0.2757 - auc_1: 0.9621 - binary_accuracy: 0.9037 - val_loss: 0.2733 - val_auc_1: 0.9633 - val_binary_accuracy: 0.9022\n",
      "Epoch 10/200\n",
      "400/400 [==============================] - 1s 2ms/step - loss: 0.2726 - auc_1: 0.9634 - binary_accuracy: 0.9044 - val_loss: 0.2703 - val_auc_1: 0.9639 - val_binary_accuracy: 0.9044\n",
      "Epoch 11/200\n",
      "400/400 [==============================] - 1s 2ms/step - loss: 0.2698 - auc_1: 0.9643 - binary_accuracy: 0.9045 - val_loss: 0.2689 - val_auc_1: 0.9646 - val_binary_accuracy: 0.9038\n",
      "Epoch 12/200\n",
      "400/400 [==============================] - 1s 2ms/step - loss: 0.2674 - auc_1: 0.9649 - binary_accuracy: 0.9043 - val_loss: 0.2669 - val_auc_1: 0.9656 - val_binary_accuracy: 0.9034\n",
      "Epoch 13/200\n",
      "400/400 [==============================] - 1s 2ms/step - loss: 0.2657 - auc_1: 0.9657 - binary_accuracy: 0.9057 - val_loss: 0.2657 - val_auc_1: 0.9660 - val_binary_accuracy: 0.9066\n",
      "Epoch 14/200\n",
      "400/400 [==============================] - 1s 2ms/step - loss: 0.2639 - auc_1: 0.9663 - binary_accuracy: 0.9067 - val_loss: 0.2646 - val_auc_1: 0.9668 - val_binary_accuracy: 0.9028\n",
      "Epoch 15/200\n",
      "400/400 [==============================] - 1s 2ms/step - loss: 0.2624 - auc_1: 0.9668 - binary_accuracy: 0.9082 - val_loss: 0.2615 - val_auc_1: 0.9672 - val_binary_accuracy: 0.9062\n",
      "Epoch 16/200\n",
      "400/400 [==============================] - 1s 2ms/step - loss: 0.2612 - auc_1: 0.9672 - binary_accuracy: 0.9070 - val_loss: 0.2610 - val_auc_1: 0.9675 - val_binary_accuracy: 0.9069\n",
      "Epoch 17/200\n",
      "400/400 [==============================] - 1s 2ms/step - loss: 0.2599 - auc_1: 0.9677 - binary_accuracy: 0.9081 - val_loss: 0.2601 - val_auc_1: 0.9679 - val_binary_accuracy: 0.9059\n",
      "Epoch 18/200\n",
      "400/400 [==============================] - 1s 3ms/step - loss: 0.2592 - auc_1: 0.9679 - binary_accuracy: 0.9095 - val_loss: 0.2609 - val_auc_1: 0.9680 - val_binary_accuracy: 0.9000\n",
      "Epoch 19/200\n",
      "400/400 [==============================] - 1s 2ms/step - loss: 0.2581 - auc_1: 0.9684 - binary_accuracy: 0.9087 - val_loss: 0.2601 - val_auc_1: 0.9683 - val_binary_accuracy: 0.9066\n",
      "Epoch 20/200\n",
      "400/400 [==============================] - 1s 2ms/step - loss: 0.2574 - auc_1: 0.9686 - binary_accuracy: 0.9102 - val_loss: 0.2589 - val_auc_1: 0.9684 - val_binary_accuracy: 0.9062\n",
      "Epoch 21/200\n",
      "400/400 [==============================] - 1s 2ms/step - loss: 0.2571 - auc_1: 0.9688 - binary_accuracy: 0.9092 - val_loss: 0.2577 - val_auc_1: 0.9687 - val_binary_accuracy: 0.9119\n",
      "Epoch 22/200\n",
      "400/400 [==============================] - 1s 2ms/step - loss: 0.2560 - auc_1: 0.9693 - binary_accuracy: 0.9099 - val_loss: 0.2580 - val_auc_1: 0.9685 - val_binary_accuracy: 0.9128\n",
      "Epoch 23/200\n",
      "400/400 [==============================] - 1s 3ms/step - loss: 0.2561 - auc_1: 0.9691 - binary_accuracy: 0.9099 - val_loss: 0.2571 - val_auc_1: 0.9689 - val_binary_accuracy: 0.9141\n",
      "Epoch 24/200\n",
      "400/400 [==============================] - 1s 2ms/step - loss: 0.2554 - auc_1: 0.9694 - binary_accuracy: 0.9116 - val_loss: 0.2568 - val_auc_1: 0.9690 - val_binary_accuracy: 0.9119\n",
      "Epoch 25/200\n",
      "400/400 [==============================] - 1s 2ms/step - loss: 0.2549 - auc_1: 0.9696 - binary_accuracy: 0.9112 - val_loss: 0.2584 - val_auc_1: 0.9688 - val_binary_accuracy: 0.9053\n",
      "Epoch 26/200\n",
      "400/400 [==============================] - 1s 3ms/step - loss: 0.2544 - auc_1: 0.9697 - binary_accuracy: 0.9112 - val_loss: 0.2591 - val_auc_1: 0.9692 - val_binary_accuracy: 0.9034\n",
      "Epoch 27/200\n",
      "400/400 [==============================] - 1s 3ms/step - loss: 0.2542 - auc_1: 0.9698 - binary_accuracy: 0.9117 - val_loss: 0.2561 - val_auc_1: 0.9697 - val_binary_accuracy: 0.9103\n",
      "Epoch 28/200\n",
      "400/400 [==============================] - 1s 2ms/step - loss: 0.2536 - auc_1: 0.9701 - binary_accuracy: 0.9110 - val_loss: 0.2561 - val_auc_1: 0.9695 - val_binary_accuracy: 0.9084\n",
      "Epoch 29/200\n",
      "400/400 [==============================] - 1s 2ms/step - loss: 0.2531 - auc_1: 0.9702 - binary_accuracy: 0.9129 - val_loss: 0.2550 - val_auc_1: 0.9700 - val_binary_accuracy: 0.9112\n",
      "Epoch 30/200\n",
      "400/400 [==============================] - 1s 2ms/step - loss: 0.2530 - auc_1: 0.9703 - binary_accuracy: 0.9118 - val_loss: 0.2553 - val_auc_1: 0.9697 - val_binary_accuracy: 0.9106\n",
      "Epoch 31/200\n",
      "400/400 [==============================] - 1s 2ms/step - loss: 0.2526 - auc_1: 0.9704 - binary_accuracy: 0.9128 - val_loss: 0.2571 - val_auc_1: 0.9695 - val_binary_accuracy: 0.9059\n",
      "Epoch 32/200\n",
      "400/400 [==============================] - 1s 2ms/step - loss: 0.2520 - auc_1: 0.9707 - binary_accuracy: 0.9130 - val_loss: 0.2555 - val_auc_1: 0.9700 - val_binary_accuracy: 0.9059\n",
      "Epoch 33/200\n",
      "400/400 [==============================] - 1s 2ms/step - loss: 0.2517 - auc_1: 0.9707 - binary_accuracy: 0.9137 - val_loss: 0.2579 - val_auc_1: 0.9700 - val_binary_accuracy: 0.9028\n",
      "Epoch 34/200\n",
      "400/400 [==============================] - 1s 2ms/step - loss: 0.2515 - auc_1: 0.9709 - binary_accuracy: 0.9132 - val_loss: 0.2541 - val_auc_1: 0.9702 - val_binary_accuracy: 0.9141\n",
      "Epoch 35/200\n",
      "400/400 [==============================] - 1s 2ms/step - loss: 0.2513 - auc_1: 0.9709 - binary_accuracy: 0.9134 - val_loss: 0.2540 - val_auc_1: 0.9705 - val_binary_accuracy: 0.9091\n",
      "Epoch 36/200\n",
      "400/400 [==============================] - 1s 2ms/step - loss: 0.2510 - auc_1: 0.9710 - binary_accuracy: 0.9134 - val_loss: 0.2545 - val_auc_1: 0.9706 - val_binary_accuracy: 0.9062\n",
      "Epoch 37/200\n",
      "400/400 [==============================] - 1s 2ms/step - loss: 0.2507 - auc_1: 0.9712 - binary_accuracy: 0.9145 - val_loss: 0.2531 - val_auc_1: 0.9703 - val_binary_accuracy: 0.9103\n",
      "Epoch 38/200\n",
      "400/400 [==============================] - 1s 2ms/step - loss: 0.2505 - auc_1: 0.9712 - binary_accuracy: 0.9149 - val_loss: 0.2531 - val_auc_1: 0.9707 - val_binary_accuracy: 0.9091\n",
      "Epoch 39/200\n",
      "400/400 [==============================] - 1s 2ms/step - loss: 0.2499 - auc_1: 0.9714 - binary_accuracy: 0.9147 - val_loss: 0.2528 - val_auc_1: 0.9708 - val_binary_accuracy: 0.9091\n",
      "Epoch 40/200\n",
      "400/400 [==============================] - 1s 2ms/step - loss: 0.2499 - auc_1: 0.9715 - binary_accuracy: 0.9155 - val_loss: 0.2525 - val_auc_1: 0.9709 - val_binary_accuracy: 0.9106\n",
      "Epoch 41/200\n",
      "400/400 [==============================] - 1s 2ms/step - loss: 0.2497 - auc_1: 0.9715 - binary_accuracy: 0.9153 - val_loss: 0.2525 - val_auc_1: 0.9710 - val_binary_accuracy: 0.9097\n",
      "Epoch 42/200\n",
      "400/400 [==============================] - 1s 2ms/step - loss: 0.2488 - auc_1: 0.9718 - binary_accuracy: 0.9153 - val_loss: 0.2545 - val_auc_1: 0.9706 - val_binary_accuracy: 0.9072\n",
      "Epoch 43/200\n",
      "400/400 [==============================] - 1s 2ms/step - loss: 0.2488 - auc_1: 0.9719 - binary_accuracy: 0.9152 - val_loss: 0.2532 - val_auc_1: 0.9709 - val_binary_accuracy: 0.9084\n",
      "Epoch 44/200\n",
      "400/400 [==============================] - 1s 2ms/step - loss: 0.2488 - auc_1: 0.9719 - binary_accuracy: 0.9154 - val_loss: 0.2527 - val_auc_1: 0.9706 - val_binary_accuracy: 0.9103\n",
      "Epoch 45/200\n",
      "400/400 [==============================] - 1s 2ms/step - loss: 0.2487 - auc_1: 0.9718 - binary_accuracy: 0.9164 - val_loss: 0.2519 - val_auc_1: 0.9714 - val_binary_accuracy: 0.9094\n",
      "Epoch 46/200\n",
      "400/400 [==============================] - 1s 2ms/step - loss: 0.2480 - auc_1: 0.9722 - binary_accuracy: 0.9181 - val_loss: 0.2516 - val_auc_1: 0.9711 - val_binary_accuracy: 0.9125\n",
      "Epoch 47/200\n",
      "400/400 [==============================] - 1s 2ms/step - loss: 0.2480 - auc_1: 0.9722 - binary_accuracy: 0.9161 - val_loss: 0.2525 - val_auc_1: 0.9714 - val_binary_accuracy: 0.9072\n",
      "Epoch 48/200\n",
      "400/400 [==============================] - 1s 2ms/step - loss: 0.2482 - auc_1: 0.9722 - binary_accuracy: 0.9166 - val_loss: 0.2515 - val_auc_1: 0.9714 - val_binary_accuracy: 0.9084\n",
      "Epoch 49/200\n",
      "400/400 [==============================] - 1s 2ms/step - loss: 0.2477 - auc_1: 0.9723 - binary_accuracy: 0.9172 - val_loss: 0.2532 - val_auc_1: 0.9712 - val_binary_accuracy: 0.9062\n",
      "Epoch 50/200\n",
      "400/400 [==============================] - 1s 2ms/step - loss: 0.2474 - auc_1: 0.9725 - binary_accuracy: 0.9175 - val_loss: 0.2514 - val_auc_1: 0.9710 - val_binary_accuracy: 0.9116\n",
      "Epoch 51/200\n",
      "400/400 [==============================] - 1s 2ms/step - loss: 0.2474 - auc_1: 0.9724 - binary_accuracy: 0.9161 - val_loss: 0.2520 - val_auc_1: 0.9716 - val_binary_accuracy: 0.9066\n",
      "Epoch 52/200\n",
      "400/400 [==============================] - 1s 2ms/step - loss: 0.2471 - auc_1: 0.9725 - binary_accuracy: 0.9177 - val_loss: 0.2507 - val_auc_1: 0.9718 - val_binary_accuracy: 0.9119\n",
      "Epoch 53/200\n",
      "400/400 [==============================] - 1s 2ms/step - loss: 0.2469 - auc_1: 0.9727 - binary_accuracy: 0.9180 - val_loss: 0.2513 - val_auc_1: 0.9717 - val_binary_accuracy: 0.9081\n",
      "Epoch 54/200\n",
      "400/400 [==============================] - 1s 2ms/step - loss: 0.2465 - auc_1: 0.9727 - binary_accuracy: 0.9180 - val_loss: 0.2510 - val_auc_1: 0.9717 - val_binary_accuracy: 0.9072\n",
      "Epoch 55/200\n",
      "400/400 [==============================] - 1s 2ms/step - loss: 0.2460 - auc_1: 0.9730 - binary_accuracy: 0.9184 - val_loss: 0.2509 - val_auc_1: 0.9715 - val_binary_accuracy: 0.9094\n",
      "Epoch 56/200\n",
      "400/400 [==============================] - 1s 2ms/step - loss: 0.2458 - auc_1: 0.9730 - binary_accuracy: 0.9190 - val_loss: 0.2515 - val_auc_1: 0.9719 - val_binary_accuracy: 0.9091\n",
      "Epoch 57/200\n",
      "400/400 [==============================] - 1s 2ms/step - loss: 0.2460 - auc_1: 0.9730 - binary_accuracy: 0.9174 - val_loss: 0.2512 - val_auc_1: 0.9719 - val_binary_accuracy: 0.9087\n",
      "Epoch 58/200\n",
      "400/400 [==============================] - 1s 2ms/step - loss: 0.2458 - auc_1: 0.9730 - binary_accuracy: 0.9185 - val_loss: 0.2505 - val_auc_1: 0.9721 - val_binary_accuracy: 0.9131\n",
      "Epoch 59/200\n",
      "400/400 [==============================] - 1s 2ms/step - loss: 0.2454 - auc_1: 0.9733 - binary_accuracy: 0.9195 - val_loss: 0.2526 - val_auc_1: 0.9719 - val_binary_accuracy: 0.9059\n",
      "Epoch 60/200\n",
      "400/400 [==============================] - 1s 2ms/step - loss: 0.2453 - auc_1: 0.9734 - binary_accuracy: 0.9198 - val_loss: 0.2497 - val_auc_1: 0.9724 - val_binary_accuracy: 0.9119\n",
      "Epoch 61/200\n",
      "400/400 [==============================] - 1s 2ms/step - loss: 0.2451 - auc_1: 0.9735 - binary_accuracy: 0.9202 - val_loss: 0.2504 - val_auc_1: 0.9720 - val_binary_accuracy: 0.9091\n",
      "Epoch 62/200\n",
      "400/400 [==============================] - 1s 2ms/step - loss: 0.2450 - auc_1: 0.9734 - binary_accuracy: 0.9191 - val_loss: 0.2493 - val_auc_1: 0.9723 - val_binary_accuracy: 0.9128\n",
      "Epoch 63/200\n",
      "400/400 [==============================] - 1s 2ms/step - loss: 0.2445 - auc_1: 0.9736 - binary_accuracy: 0.9210 - val_loss: 0.2496 - val_auc_1: 0.9725 - val_binary_accuracy: 0.9103\n",
      "Epoch 64/200\n",
      "400/400 [==============================] - 1s 3ms/step - loss: 0.2445 - auc_1: 0.9736 - binary_accuracy: 0.9197 - val_loss: 0.2508 - val_auc_1: 0.9722 - val_binary_accuracy: 0.9069\n",
      "Epoch 65/200\n",
      "400/400 [==============================] - 1s 2ms/step - loss: 0.2442 - auc_1: 0.9737 - binary_accuracy: 0.9203 - val_loss: 0.2496 - val_auc_1: 0.9726 - val_binary_accuracy: 0.9094\n",
      "Epoch 66/200\n",
      "400/400 [==============================] - 1s 2ms/step - loss: 0.2440 - auc_1: 0.9738 - binary_accuracy: 0.9205 - val_loss: 0.2490 - val_auc_1: 0.9727 - val_binary_accuracy: 0.9122\n",
      "Epoch 67/200\n",
      "400/400 [==============================] - 1s 2ms/step - loss: 0.2438 - auc_1: 0.9740 - binary_accuracy: 0.9208 - val_loss: 0.2484 - val_auc_1: 0.9726 - val_binary_accuracy: 0.9150\n",
      "Epoch 68/200\n",
      "400/400 [==============================] - 1s 2ms/step - loss: 0.2437 - auc_1: 0.9740 - binary_accuracy: 0.9204 - val_loss: 0.2482 - val_auc_1: 0.9728 - val_binary_accuracy: 0.9159\n",
      "Epoch 69/200\n",
      "400/400 [==============================] - 1s 2ms/step - loss: 0.2439 - auc_1: 0.9740 - binary_accuracy: 0.9198 - val_loss: 0.2479 - val_auc_1: 0.9730 - val_binary_accuracy: 0.9119\n",
      "Epoch 70/200\n",
      "400/400 [==============================] - 1s 2ms/step - loss: 0.2434 - auc_1: 0.9741 - binary_accuracy: 0.9212 - val_loss: 0.2487 - val_auc_1: 0.9730 - val_binary_accuracy: 0.9137\n",
      "Epoch 71/200\n",
      "400/400 [==============================] - 1s 2ms/step - loss: 0.2432 - auc_1: 0.9743 - binary_accuracy: 0.9216 - val_loss: 0.2474 - val_auc_1: 0.9732 - val_binary_accuracy: 0.9159\n",
      "Epoch 72/200\n",
      "400/400 [==============================] - 1s 2ms/step - loss: 0.2432 - auc_1: 0.9742 - binary_accuracy: 0.9208 - val_loss: 0.2476 - val_auc_1: 0.9731 - val_binary_accuracy: 0.9147\n",
      "Epoch 73/200\n",
      "400/400 [==============================] - 1s 2ms/step - loss: 0.2431 - auc_1: 0.9744 - binary_accuracy: 0.9207 - val_loss: 0.2472 - val_auc_1: 0.9732 - val_binary_accuracy: 0.9175\n",
      "Epoch 74/200\n",
      "400/400 [==============================] - 1s 2ms/step - loss: 0.2427 - auc_1: 0.9744 - binary_accuracy: 0.9209 - val_loss: 0.2470 - val_auc_1: 0.9732 - val_binary_accuracy: 0.9178\n",
      "Epoch 75/200\n",
      "400/400 [==============================] - 1s 2ms/step - loss: 0.2429 - auc_1: 0.9744 - binary_accuracy: 0.9230 - val_loss: 0.2482 - val_auc_1: 0.9732 - val_binary_accuracy: 0.9125\n",
      "Epoch 76/200\n",
      "400/400 [==============================] - 1s 2ms/step - loss: 0.2429 - auc_1: 0.9745 - binary_accuracy: 0.9190 - val_loss: 0.2473 - val_auc_1: 0.9733 - val_binary_accuracy: 0.9159\n",
      "Epoch 77/200\n",
      "400/400 [==============================] - 1s 2ms/step - loss: 0.2427 - auc_1: 0.9745 - binary_accuracy: 0.9215 - val_loss: 0.2490 - val_auc_1: 0.9732 - val_binary_accuracy: 0.9150\n",
      "Epoch 78/200\n",
      "400/400 [==============================] - 1s 2ms/step - loss: 0.2426 - auc_1: 0.9746 - binary_accuracy: 0.9219 - val_loss: 0.2494 - val_auc_1: 0.9736 - val_binary_accuracy: 0.9106\n",
      "Epoch 79/200\n",
      "400/400 [==============================] - 1s 2ms/step - loss: 0.2424 - auc_1: 0.9748 - binary_accuracy: 0.9212 - val_loss: 0.2469 - val_auc_1: 0.9735 - val_binary_accuracy: 0.9137\n",
      "Epoch 80/200\n",
      "400/400 [==============================] - 1s 2ms/step - loss: 0.2424 - auc_1: 0.9747 - binary_accuracy: 0.9205 - val_loss: 0.2472 - val_auc_1: 0.9736 - val_binary_accuracy: 0.9147\n",
      "Epoch 81/200\n",
      "400/400 [==============================] - 1s 2ms/step - loss: 0.2422 - auc_1: 0.9748 - binary_accuracy: 0.9212 - val_loss: 0.2475 - val_auc_1: 0.9737 - val_binary_accuracy: 0.9162\n",
      "Epoch 82/200\n",
      "400/400 [==============================] - 1s 2ms/step - loss: 0.2422 - auc_1: 0.9749 - binary_accuracy: 0.9223 - val_loss: 0.2475 - val_auc_1: 0.9736 - val_binary_accuracy: 0.9147\n",
      "Epoch 83/200\n",
      "400/400 [==============================] - 1s 2ms/step - loss: 0.2420 - auc_1: 0.9749 - binary_accuracy: 0.9223 - val_loss: 0.2464 - val_auc_1: 0.9736 - val_binary_accuracy: 0.9166\n",
      "Epoch 84/200\n",
      "400/400 [==============================] - 1s 3ms/step - loss: 0.2420 - auc_1: 0.9749 - binary_accuracy: 0.9221 - val_loss: 0.2473 - val_auc_1: 0.9735 - val_binary_accuracy: 0.9150\n",
      "Epoch 85/200\n",
      "400/400 [==============================] - 1s 3ms/step - loss: 0.2419 - auc_1: 0.9750 - binary_accuracy: 0.9211 - val_loss: 0.2498 - val_auc_1: 0.9738 - val_binary_accuracy: 0.9097\n",
      "Epoch 86/200\n",
      "400/400 [==============================] - 1s 2ms/step - loss: 0.2419 - auc_1: 0.9751 - binary_accuracy: 0.9216 - val_loss: 0.2464 - val_auc_1: 0.9739 - val_binary_accuracy: 0.9178\n",
      "Epoch 87/200\n",
      "400/400 [==============================] - 1s 2ms/step - loss: 0.2418 - auc_1: 0.9751 - binary_accuracy: 0.9226 - val_loss: 0.2468 - val_auc_1: 0.9739 - val_binary_accuracy: 0.9150\n",
      "Epoch 88/200\n",
      "400/400 [==============================] - 1s 2ms/step - loss: 0.2418 - auc_1: 0.9750 - binary_accuracy: 0.9232 - val_loss: 0.2459 - val_auc_1: 0.9743 - val_binary_accuracy: 0.9169\n",
      "Epoch 89/200\n",
      "400/400 [==============================] - 1s 2ms/step - loss: 0.2414 - auc_1: 0.9754 - binary_accuracy: 0.9229 - val_loss: 0.2464 - val_auc_1: 0.9741 - val_binary_accuracy: 0.9144\n",
      "Epoch 90/200\n",
      "400/400 [==============================] - 1s 2ms/step - loss: 0.2413 - auc_1: 0.9754 - binary_accuracy: 0.9230 - val_loss: 0.2464 - val_auc_1: 0.9744 - val_binary_accuracy: 0.9153\n",
      "Epoch 91/200\n",
      "400/400 [==============================] - 1s 2ms/step - loss: 0.2407 - auc_1: 0.9757 - binary_accuracy: 0.9234 - val_loss: 0.2456 - val_auc_1: 0.9746 - val_binary_accuracy: 0.9153\n",
      "Epoch 92/200\n",
      "400/400 [==============================] - 1s 2ms/step - loss: 0.2405 - auc_1: 0.9757 - binary_accuracy: 0.9229 - val_loss: 0.2440 - val_auc_1: 0.9745 - val_binary_accuracy: 0.9212\n",
      "Epoch 93/200\n",
      "400/400 [==============================] - 1s 2ms/step - loss: 0.2407 - auc_1: 0.9757 - binary_accuracy: 0.9230 - val_loss: 0.2431 - val_auc_1: 0.9751 - val_binary_accuracy: 0.9191\n",
      "Epoch 94/200\n",
      "400/400 [==============================] - 1s 2ms/step - loss: 0.2393 - auc_1: 0.9762 - binary_accuracy: 0.9237 - val_loss: 0.2445 - val_auc_1: 0.9750 - val_binary_accuracy: 0.9175\n",
      "Epoch 95/200\n",
      "400/400 [==============================] - 1s 2ms/step - loss: 0.2390 - auc_1: 0.9763 - binary_accuracy: 0.9259 - val_loss: 0.2429 - val_auc_1: 0.9757 - val_binary_accuracy: 0.9197\n",
      "Epoch 96/200\n",
      "400/400 [==============================] - 1s 2ms/step - loss: 0.2379 - auc_1: 0.9767 - binary_accuracy: 0.9251 - val_loss: 0.2425 - val_auc_1: 0.9757 - val_binary_accuracy: 0.9200\n",
      "Epoch 97/200\n",
      "400/400 [==============================] - 1s 2ms/step - loss: 0.2376 - auc_1: 0.9767 - binary_accuracy: 0.9248 - val_loss: 0.2423 - val_auc_1: 0.9755 - val_binary_accuracy: 0.9187\n",
      "Epoch 98/200\n",
      "400/400 [==============================] - 1s 2ms/step - loss: 0.2375 - auc_1: 0.9768 - binary_accuracy: 0.9259 - val_loss: 0.2433 - val_auc_1: 0.9753 - val_binary_accuracy: 0.9187\n",
      "Epoch 99/200\n",
      "400/400 [==============================] - 1s 2ms/step - loss: 0.2370 - auc_1: 0.9769 - binary_accuracy: 0.9247 - val_loss: 0.2417 - val_auc_1: 0.9757 - val_binary_accuracy: 0.9200\n",
      "Epoch 100/200\n",
      "400/400 [==============================] - 1s 2ms/step - loss: 0.2369 - auc_1: 0.9769 - binary_accuracy: 0.9254 - val_loss: 0.2426 - val_auc_1: 0.9761 - val_binary_accuracy: 0.9184\n",
      "Epoch 101/200\n",
      "400/400 [==============================] - 1s 2ms/step - loss: 0.2364 - auc_1: 0.9773 - binary_accuracy: 0.9263 - val_loss: 0.2419 - val_auc_1: 0.9757 - val_binary_accuracy: 0.9203\n",
      "Epoch 102/200\n",
      "400/400 [==============================] - 1s 2ms/step - loss: 0.2359 - auc_1: 0.9773 - binary_accuracy: 0.9272 - val_loss: 0.2427 - val_auc_1: 0.9759 - val_binary_accuracy: 0.9219\n",
      "Epoch 103/200\n",
      "400/400 [==============================] - 1s 2ms/step - loss: 0.2363 - auc_1: 0.9773 - binary_accuracy: 0.9263 - val_loss: 0.2430 - val_auc_1: 0.9761 - val_binary_accuracy: 0.9206\n",
      "Epoch 104/200\n",
      "400/400 [==============================] - 1s 2ms/step - loss: 0.2364 - auc_1: 0.9772 - binary_accuracy: 0.9259 - val_loss: 0.2426 - val_auc_1: 0.9760 - val_binary_accuracy: 0.9209\n",
      "Epoch 105/200\n",
      "400/400 [==============================] - 1s 3ms/step - loss: 0.2360 - auc_1: 0.9775 - binary_accuracy: 0.9255 - val_loss: 0.2410 - val_auc_1: 0.9759 - val_binary_accuracy: 0.9197\n",
      "Epoch 106/200\n",
      "400/400 [==============================] - 1s 3ms/step - loss: 0.2360 - auc_1: 0.9774 - binary_accuracy: 0.9267 - val_loss: 0.2421 - val_auc_1: 0.9761 - val_binary_accuracy: 0.9203\n",
      "Epoch 107/200\n",
      "400/400 [==============================] - 1s 2ms/step - loss: 0.2358 - auc_1: 0.9775 - binary_accuracy: 0.9262 - val_loss: 0.2415 - val_auc_1: 0.9763 - val_binary_accuracy: 0.9209\n",
      "Epoch 108/200\n",
      "400/400 [==============================] - 1s 2ms/step - loss: 0.2355 - auc_1: 0.9775 - binary_accuracy: 0.9280 - val_loss: 0.2425 - val_auc_1: 0.9763 - val_binary_accuracy: 0.9216\n",
      "Epoch 109/200\n",
      "400/400 [==============================] - 1s 2ms/step - loss: 0.2353 - auc_1: 0.9777 - binary_accuracy: 0.9270 - val_loss: 0.2417 - val_auc_1: 0.9764 - val_binary_accuracy: 0.9216\n",
      "Epoch 110/200\n",
      "400/400 [==============================] - 1s 2ms/step - loss: 0.2354 - auc_1: 0.9777 - binary_accuracy: 0.9284 - val_loss: 0.2417 - val_auc_1: 0.9762 - val_binary_accuracy: 0.9206\n",
      "Epoch 111/200\n",
      "400/400 [==============================] - 1s 2ms/step - loss: 0.2352 - auc_1: 0.9778 - binary_accuracy: 0.9276 - val_loss: 0.2416 - val_auc_1: 0.9761 - val_binary_accuracy: 0.9206\n",
      "Epoch 112/200\n",
      "400/400 [==============================] - 1s 2ms/step - loss: 0.2349 - auc_1: 0.9778 - binary_accuracy: 0.9291 - val_loss: 0.2413 - val_auc_1: 0.9762 - val_binary_accuracy: 0.9212\n",
      "Epoch 113/200\n",
      "400/400 [==============================] - 1s 2ms/step - loss: 0.2349 - auc_1: 0.9779 - binary_accuracy: 0.9284 - val_loss: 0.2418 - val_auc_1: 0.9762 - val_binary_accuracy: 0.9206\n",
      "Epoch 114/200\n",
      "400/400 [==============================] - 1s 2ms/step - loss: 0.2349 - auc_1: 0.9779 - binary_accuracy: 0.9284 - val_loss: 0.2422 - val_auc_1: 0.9764 - val_binary_accuracy: 0.9216\n",
      "Epoch 115/200\n",
      "400/400 [==============================] - 1s 2ms/step - loss: 0.2345 - auc_1: 0.9780 - binary_accuracy: 0.9279 - val_loss: 0.2415 - val_auc_1: 0.9764 - val_binary_accuracy: 0.9222\n"
     ]
    },
    {
     "data": {
      "text/plain": [
       "<keras.callbacks.History at 0x20958969360>"
      ]
     },
     "execution_count": 18,
     "metadata": {},
     "output_type": "execute_result"
    }
   ],
   "source": [
    "epochs = 200\n",
    "\n",
    "early_call = tf.keras.callbacks.EarlyStopping(\n",
    "    monitor='val_loss', patience=10, restore_best_weights=True\n",
    ")\n",
    "\n",
    "model.fit(X_train,\n",
    "          y_train,\n",
    "          epochs=epochs,\n",
    "          validation_data=(X_dev, y_dev),\n",
    "          callbacks=[early_call])"
   ]
  },
  {
   "cell_type": "markdown",
   "metadata": {},
   "source": [
    "### Gridsearch and Tensorboard\n",
    "Run gridsearch over hidden layer size, L2 regularization, activation, check the outputs in Tensorboard\n",
    "\n",
    "I recommend not to run Tensorboard from Jupyter notebook but from terminal directly\n",
    "\n",
    "use \"tensorboard --logdir logs\" in command line"
   ]
  },
  {
   "cell_type": "code",
   "execution_count": 19,
   "metadata": {
    "scrolled": true
   },
   "outputs": [
    {
     "name": "stdout",
     "output_type": "stream",
     "text": [
      "Epoch 1/10\n",
      "200/200 [==============================] - 2s 4ms/step - loss: 0.6801 - AUC: 0.7464 - binary_accuracy: 0.6304 - val_loss: 0.6487 - val_AUC: 0.7993 - val_binary_accuracy: 0.6966\n",
      "Epoch 2/10\n",
      "200/200 [==============================] - 0s 2ms/step - loss: 0.6180 - AUC: 0.8145 - binary_accuracy: 0.7193 - val_loss: 0.5824 - val_AUC: 0.8358 - val_binary_accuracy: 0.7575\n",
      "Epoch 3/10\n",
      "200/200 [==============================] - 1s 3ms/step - loss: 0.5646 - AUC: 0.8314 - binary_accuracy: 0.7566 - val_loss: 0.5413 - val_AUC: 0.8431 - val_binary_accuracy: 0.7862\n",
      "Epoch 4/10\n",
      "200/200 [==============================] - 0s 2ms/step - loss: 0.5368 - AUC: 0.8343 - binary_accuracy: 0.7730 - val_loss: 0.5215 - val_AUC: 0.8445 - val_binary_accuracy: 0.7984\n",
      "Epoch 5/10\n",
      "200/200 [==============================] - 0s 2ms/step - loss: 0.5231 - AUC: 0.8377 - binary_accuracy: 0.7802 - val_loss: 0.5113 - val_AUC: 0.8436 - val_binary_accuracy: 0.8019\n",
      "Epoch 6/10\n",
      "200/200 [==============================] - 1s 3ms/step - loss: 0.5154 - AUC: 0.8352 - binary_accuracy: 0.7850 - val_loss: 0.5046 - val_AUC: 0.8459 - val_binary_accuracy: 0.8041\n",
      "Epoch 7/10\n",
      "200/200 [==============================] - 0s 2ms/step - loss: 0.5105 - AUC: 0.8369 - binary_accuracy: 0.7876 - val_loss: 0.5002 - val_AUC: 0.8470 - val_binary_accuracy: 0.8053\n",
      "Epoch 8/10\n",
      "200/200 [==============================] - 0s 2ms/step - loss: 0.5071 - AUC: 0.8407 - binary_accuracy: 0.7885 - val_loss: 0.4973 - val_AUC: 0.8484 - val_binary_accuracy: 0.8062\n",
      "Epoch 9/10\n",
      "200/200 [==============================] - 0s 2ms/step - loss: 0.5047 - AUC: 0.8407 - binary_accuracy: 0.7897 - val_loss: 0.4948 - val_AUC: 0.8511 - val_binary_accuracy: 0.8072\n",
      "Epoch 10/10\n",
      "200/200 [==============================] - 0s 2ms/step - loss: 0.5029 - AUC: 0.8431 - binary_accuracy: 0.7904 - val_loss: 0.4933 - val_AUC: 0.8519 - val_binary_accuracy: 0.8091\n",
      "Epoch 1/10\n",
      "200/200 [==============================] - 5s 19ms/step - loss: 0.9952 - AUC: 0.4924 - binary_accuracy: 0.5010 - val_loss: 0.7853 - val_AUC: 0.5831 - val_binary_accuracy: 0.5497\n",
      "Epoch 2/10\n",
      "200/200 [==============================] - 1s 6ms/step - loss: 0.6977 - AUC: 0.6911 - binary_accuracy: 0.6254 - val_loss: 0.6291 - val_AUC: 0.7951 - val_binary_accuracy: 0.7019\n",
      "Epoch 3/10\n",
      "200/200 [==============================] - 1s 7ms/step - loss: 0.5956 - AUC: 0.8271 - binary_accuracy: 0.7391 - val_loss: 0.5544 - val_AUC: 0.8644 - val_binary_accuracy: 0.7784\n",
      "Epoch 4/10\n",
      "200/200 [==============================] - 1s 6ms/step - loss: 0.5405 - AUC: 0.8656 - binary_accuracy: 0.7898 - val_loss: 0.5114 - val_AUC: 0.8862 - val_binary_accuracy: 0.8231\n",
      "Epoch 5/10\n",
      "200/200 [==============================] - 2s 8ms/step - loss: 0.5082 - AUC: 0.8831 - binary_accuracy: 0.8157 - val_loss: 0.4869 - val_AUC: 0.8996 - val_binary_accuracy: 0.8425\n",
      "Epoch 6/10\n",
      "200/200 [==============================] - 2s 8ms/step - loss: 0.4885 - AUC: 0.8954 - binary_accuracy: 0.8271 - val_loss: 0.4715 - val_AUC: 0.9081 - val_binary_accuracy: 0.8519\n",
      "Epoch 7/10\n",
      "200/200 [==============================] - 1s 7ms/step - loss: 0.4746 - AUC: 0.9042 - binary_accuracy: 0.8359 - val_loss: 0.4610 - val_AUC: 0.9151 - val_binary_accuracy: 0.8569\n",
      "Epoch 8/10\n",
      "200/200 [==============================] - 1s 6ms/step - loss: 0.4650 - AUC: 0.9110 - binary_accuracy: 0.8436 - val_loss: 0.4541 - val_AUC: 0.9183 - val_binary_accuracy: 0.8578\n",
      "Epoch 9/10\n",
      "200/200 [==============================] - 1s 7ms/step - loss: 0.4578 - AUC: 0.9158 - binary_accuracy: 0.8474 - val_loss: 0.4482 - val_AUC: 0.9223 - val_binary_accuracy: 0.8603\n",
      "Epoch 10/10\n",
      "200/200 [==============================] - 1s 7ms/step - loss: 0.4519 - AUC: 0.9196 - binary_accuracy: 0.8510 - val_loss: 0.4432 - val_AUC: 0.9266 - val_binary_accuracy: 0.8653\n",
      "Epoch 1/10\n",
      "200/200 [==============================] - 8s 17ms/step - loss: 0.8069 - AUC: 0.5259 - binary_accuracy: 0.5468 - val_loss: 0.7458 - val_AUC: 0.5865 - val_binary_accuracy: 0.5850\n",
      "Epoch 2/10\n",
      "200/200 [==============================] - 2s 8ms/step - loss: 0.7039 - AUC: 0.6328 - binary_accuracy: 0.6128 - val_loss: 0.6644 - val_AUC: 0.6959 - val_binary_accuracy: 0.6463\n",
      "Epoch 3/10\n",
      "200/200 [==============================] - 2s 8ms/step - loss: 0.6350 - AUC: 0.7538 - binary_accuracy: 0.6638 - val_loss: 0.5925 - val_AUC: 0.8232 - val_binary_accuracy: 0.7053\n",
      "Epoch 4/10\n",
      "200/200 [==============================] - 2s 8ms/step - loss: 0.5750 - AUC: 0.8362 - binary_accuracy: 0.7232 - val_loss: 0.5458 - val_AUC: 0.8605 - val_binary_accuracy: 0.7563\n",
      "Epoch 5/10\n",
      "200/200 [==============================] - 2s 8ms/step - loss: 0.5430 - AUC: 0.8551 - binary_accuracy: 0.7565 - val_loss: 0.5214 - val_AUC: 0.8693 - val_binary_accuracy: 0.7894\n",
      "Epoch 6/10\n",
      "200/200 [==============================] - 2s 8ms/step - loss: 0.5249 - AUC: 0.8612 - binary_accuracy: 0.7765 - val_loss: 0.5068 - val_AUC: 0.8746 - val_binary_accuracy: 0.8012\n",
      "Epoch 7/10\n",
      "200/200 [==============================] - 2s 8ms/step - loss: 0.5137 - AUC: 0.8665 - binary_accuracy: 0.7834 - val_loss: 0.4979 - val_AUC: 0.8781 - val_binary_accuracy: 0.8009\n",
      "Epoch 8/10\n",
      "200/200 [==============================] - 2s 8ms/step - loss: 0.5064 - AUC: 0.8696 - binary_accuracy: 0.7857 - val_loss: 0.4924 - val_AUC: 0.8804 - val_binary_accuracy: 0.8028\n",
      "Epoch 9/10\n",
      "200/200 [==============================] - 1s 7ms/step - loss: 0.5017 - AUC: 0.8721 - binary_accuracy: 0.7858 - val_loss: 0.4890 - val_AUC: 0.8826 - val_binary_accuracy: 0.8078\n",
      "Epoch 10/10\n",
      "200/200 [==============================] - 2s 9ms/step - loss: 0.4986 - AUC: 0.8737 - binary_accuracy: 0.7873 - val_loss: 0.4867 - val_AUC: 0.8838 - val_binary_accuracy: 0.8087\n",
      "Epoch 1/10\n",
      "200/200 [==============================] - 8s 17ms/step - loss: 0.9021 - AUC: 0.3904 - binary_accuracy: 0.4434 - val_loss: 0.7712 - val_AUC: 0.5406 - val_binary_accuracy: 0.5384\n",
      "Epoch 2/10\n",
      "200/200 [==============================] - 1s 7ms/step - loss: 0.6955 - AUC: 0.6977 - binary_accuracy: 0.6479 - val_loss: 0.6228 - val_AUC: 0.8151 - val_binary_accuracy: 0.7384\n",
      "Epoch 3/10\n",
      "200/200 [==============================] - 1s 7ms/step - loss: 0.5814 - AUC: 0.8463 - binary_accuracy: 0.7642 - val_loss: 0.5384 - val_AUC: 0.8748 - val_binary_accuracy: 0.8022\n",
      "Epoch 4/10\n",
      "200/200 [==============================] - 2s 8ms/step - loss: 0.5216 - AUC: 0.8772 - binary_accuracy: 0.7970 - val_loss: 0.4953 - val_AUC: 0.8952 - val_binary_accuracy: 0.8200\n",
      "Epoch 5/10\n",
      "200/200 [==============================] - 2s 8ms/step - loss: 0.4924 - AUC: 0.8914 - binary_accuracy: 0.8105 - val_loss: 0.4757 - val_AUC: 0.9032 - val_binary_accuracy: 0.8272\n",
      "Epoch 6/10\n",
      "200/200 [==============================] - 1s 7ms/step - loss: 0.4790 - AUC: 0.8979 - binary_accuracy: 0.8161 - val_loss: 0.4661 - val_AUC: 0.9070 - val_binary_accuracy: 0.8284\n",
      "Epoch 7/10\n",
      "200/200 [==============================] - 1s 7ms/step - loss: 0.4723 - AUC: 0.9011 - binary_accuracy: 0.8205 - val_loss: 0.4613 - val_AUC: 0.9104 - val_binary_accuracy: 0.8291\n",
      "Epoch 8/10\n",
      "200/200 [==============================] - 1s 6ms/step - loss: 0.4684 - AUC: 0.9043 - binary_accuracy: 0.8234 - val_loss: 0.4583 - val_AUC: 0.9137 - val_binary_accuracy: 0.8356\n",
      "Epoch 9/10\n",
      "200/200 [==============================] - 1s 7ms/step - loss: 0.4658 - AUC: 0.9073 - binary_accuracy: 0.8255 - val_loss: 0.4561 - val_AUC: 0.9151 - val_binary_accuracy: 0.8378\n",
      "Epoch 10/10\n",
      "200/200 [==============================] - 2s 8ms/step - loss: 0.4641 - AUC: 0.9086 - binary_accuracy: 0.8277 - val_loss: 0.4550 - val_AUC: 0.9171 - val_binary_accuracy: 0.8381\n"
     ]
    }
   ],
   "source": [
    "# hidden_sizes = [2, 5, 10, 20, 50]\n",
    "# l2_regs = [0.01, 0.001, 0.0001]\n",
    "# activations = ['relu', 'tanh']\n",
    "\n",
    "hidden_sizes = [2, 5]\n",
    "l2_regs = [0.01]\n",
    "activations = ['relu', 'tanh']\n",
    "\n",
    "epochs = 10\n",
    "batch_size = 64\n",
    "\n",
    "early_call = tf.keras.callbacks.EarlyStopping(monitor='val_AUC', mode='max', patience=10, restore_best_weights=True)\n",
    "\n",
    "for activation in activations:\n",
    "    for l2_reg in l2_regs:\n",
    "        for hidden_size in hidden_sizes:\n",
    "            if activation == 'relu':\n",
    "                activate = tf.keras.activations.relu\n",
    "            elif activation == 'tanh':\n",
    "                activate = tf.keras.activations.tanh\n",
    "\n",
    "            # Create Tensorboard Callback\n",
    "            param_string = 'act-{},l2-{},hs-{}'.format(activation, l2_reg, hidden_size)\n",
    "            log_dir = 'logs/binary_classification_test/' + param_string\n",
    "            tensorboard_callback = tf.keras.callbacks.TensorBoard(log_dir=log_dir, histogram_freq=1)\n",
    "\n",
    "            # Input layer\n",
    "            inputs = tf.keras.Input(shape=(X_train.shape[1]))\n",
    "\n",
    "            # Hidden layer with regularization and ReLU\n",
    "            hidden = tf.keras.layers.Dense(hidden_size, kernel_regularizer=tf.keras.regularizers.l2(l2_reg))(inputs)\n",
    "            hidden = activate(hidden)\n",
    "\n",
    "            # Output layer with regularization and sigmoid\n",
    "            outputs = tf.keras.layers.Dense(1, kernel_regularizer=tf.keras.regularizers.l2(l2_reg))(hidden)\n",
    "            outputs = tf.keras.activations.sigmoid(outputs)\n",
    "\n",
    "            model = tf.keras.Model(inputs=inputs, outputs=outputs, name='RegularizedModel')\n",
    "\n",
    "            model.compile(\n",
    "                    optimizer=tf.optimizers.Adam(),\n",
    "                    loss=tf.losses.BinaryCrossentropy(),\n",
    "                    metrics=[tf.keras.metrics.AUC(name='AUC'), tf.keras.metrics.BinaryAccuracy()],\n",
    "            )\n",
    "\n",
    "            # Train the model\n",
    "            model.fit(X_train, y_train, batch_size=batch_size, epochs=epochs,\n",
    "                      validation_data=(X_dev, y_dev),\n",
    "                      callbacks=[early_call, tensorboard_callback])"
   ]
  }
 ],
 "metadata": {
  "kernelspec": {
   "display_name": "Python 3 (ipykernel)",
   "language": "python",
   "name": "python3"
  },
  "language_info": {
   "codemirror_mode": {
    "name": "ipython",
    "version": 3
   },
   "file_extension": ".py",
   "mimetype": "text/x-python",
   "name": "python",
   "nbconvert_exporter": "python",
   "pygments_lexer": "ipython3",
   "version": "3.10.9"
  },
  "toc": {
   "base_numbering": 1,
   "nav_menu": {},
   "number_sections": true,
   "sideBar": true,
   "skip_h1_title": false,
   "title_cell": "Table of Contents",
   "title_sidebar": "Contents",
   "toc_cell": false,
   "toc_position": {
    "height": "calc(100% - 180px)",
    "left": "10px",
    "top": "150px",
    "width": "384px"
   },
   "toc_section_display": true,
   "toc_window_display": true
  }
 },
 "nbformat": 4,
 "nbformat_minor": 4
}
